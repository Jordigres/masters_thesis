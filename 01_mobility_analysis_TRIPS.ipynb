{
 "cells": [
  {
   "cell_type": "markdown",
   "metadata": {},
   "source": [
    "# Catalunya's TRIPS analysis in the COVID-19 restrictions"
   ]
  },
  {
   "cell_type": "markdown",
   "metadata": {},
   "source": [
    "### Code contributors:\n",
    "- Jordi Grau <jordi.grau@eurecat.org>\n",
    "- Julià Vicens <julian.vicens@eurecat.org>\n",
    "\n",
    "### Content\n",
    "This notebook analyses the differences in Catalunya's mobility across the previously defined COVID-19 phases using visual analysis. In this notebook the focus is the NUMBER OF TRIPS. \n",
    "\n",
    "### Contents\n",
    "0. [COVID-19 number of cases](#covid)\n",
    "\n",
    "1. [Data querying](#data-querying)   \n",
    "    1.1. [Trips](#data-querying-trips)   \n",
    "    1.2. [Internal/incoming/outgoing trips](#data-querying-iio)\n",
    "\n",
    "2. [Time Series](#ts)   \n",
    "    2.1. [Trips evolution](#ts-trips)   \n",
    "    2.2. [IIO trips evolution](#ts-iio)      \n",
    "\n",
    "3. [Maps](#maps)     \n",
    "    3.1. [Trips](#maps-trips)         \n",
    "    \n",
    "4. [Heatmaps](#heatmaps)       \n",
    "    4.1. [Trips](#heatmap-trips)   \n",
    "    \n",
    "5. [Scatterplots](#Scatter)    \n",
    "    5.1. [Mobilty vs covariants](#covariants-scatter)\n",
    "    \n",
    "6. [Boxplot](#Boxplots)   \n",
    "    6.1 [Mobility by weekday](#mobility-weekday-boxplot)"
   ]
  },
  {
   "cell_type": "code",
   "execution_count": null,
   "metadata": {},
   "outputs": [],
   "source": [
    "# Imports\n",
    "import requests\n",
    "import io\n",
    "import datetime\n",
    "from datetime import datetime, timedelta\n",
    "import pandas as pd\n",
    "import matplotlib.pyplot as plt\n",
    "\n",
    "from sklearn.metrics import mean_squared_error, r2_score\n",
    "from sklearn import linear_model\n",
    "\n",
    "from src.database_utils import *\n",
    "from src.mobility_plots import *\n",
    "from src.mobility_context_and_queries import *\n",
    "\n",
    "# Date range to load raw data\n",
    "date1 = '2020-03-02'\n",
    "date2 = '2020-03-22'"
   ]
  },
  {
   "cell_type": "code",
   "execution_count": null,
   "metadata": {},
   "outputs": [],
   "source": [
    "# Get all phases\n",
    "print(\"All possible phases:\\n\")\n",
    "all_phases = []\n",
    "for phase in phases_list:\n",
    "    phase_name, phase_period = list(phase.items())[0]\n",
    "    print(f'- ({phase_name}, {phase_period[\"start\"]}, {phase_period[\"end\"]})')\n",
    "    all_phases.append(phase_name)\n",
    "    \n",
    "#############################\n",
    "############ FILL ###########\n",
    "#############################\n",
    "\n",
    "# Fill target phases wanted for the study\n",
    "study_phases = [\n",
    "    'precovid', 'lockdown', 'mobilitat_essenc', 'fase_0', 'desescalada', \n",
    "    'no_restriccions', 'alerta_5_inici', 'alerta_5_tr1', 'alerta_5_tr1_2', 'nadal_cap_reis']\n",
    "\n",
    "# Print target phases names and dates\n",
    "phases_dates_targets = []\n",
    "for phase_dict in phases_list:\n",
    "    for phase_name, dates in phase_dict.items():\n",
    "        if phase_name in study_phases:\n",
    "            phases_dates_targets.append((phase_name, dates['start'], dates['end']))\n",
    "print('\\nStudy about this phases:\\n')\n",
    "for study in phases_dates_targets:\n",
    "    print(f'- {study}')"
   ]
  },
  {
   "cell_type": "code",
   "execution_count": null,
   "metadata": {},
   "outputs": [],
   "source": [
    "# Get all motivs\n",
    "print(\"All possible motivs:\\n\")\n",
    "all_motivs = []\n",
    "for motiv in motiv_list:\n",
    "    motiv_name, motiv_period = list(motiv.items())[0]\n",
    "    print(f'- ({motiv_name}, {motiv_period[\"start\"]}, {motiv_period[\"end\"]})')\n",
    "    all_motivs.append(motiv_name)\n",
    "\n",
    "#############################\n",
    "############ FILL ###########\n",
    "#############################\n",
    "\n",
    "# Fill target motivs wanted for the study\n",
    "study_motivs = []\n",
    "\n",
    "# Print target motivs names and dates\n",
    "motivs_dates_targets = []\n",
    "for motiv_dict in motiv_list:\n",
    "    for motiv_name, dates in motiv_dict.items():\n",
    "        if motiv_name in study_motivs:\n",
    "            motivs_dates_targets.append((motiv_name, dates['start'], dates['end']))\n",
    "print('\\nStudy about this motivs:\\n')\n",
    "for study in motivs_dates_targets:\n",
    "    print(f'- {study}')"
   ]
  },
  {
   "cell_type": "markdown",
   "metadata": {},
   "source": [
    "# 0. COVID-19 number of cases <a class=\"anchor\" id=\"covid\"></a>"
   ]
  },
  {
   "cell_type": "code",
   "execution_count": null,
   "metadata": {},
   "outputs": [],
   "source": [
    "# https://datos.gob.es/es/catalogo/e05070101-evolucion-de-enfermedad-por-el-coronavirus-covid-19\n",
    "df = pd.read_csv('casos_diagnostico_ccaa.csv')\n",
    "\n",
    "# Filter catalunya\n",
    "df = df[df['ccaa_iso'] == 'CT']\n",
    "df['date'] = pd.to_datetime(df['fecha'], format='%Y-%m-%d')\n",
    "df = df.set_index('date')['num_casos']"
   ]
  },
  {
   "cell_type": "code",
   "execution_count": null,
   "metadata": {},
   "outputs": [],
   "source": [
    "fig, ax = plt.subplots(figsize=(14,4))\n",
    "ax.set_title('COVID-19 pandemic evolution in Catalunya')\n",
    "ax.set_ylabel('Number of cases')\n",
    "\n",
    "df.plot(ax=ax)\n",
    "ax.set_xlim(['2020-02-14', '2021-01-05'])\n",
    "ax.grid()\n",
    "\n",
    "# Restriction periods vertical lines and numbers\n",
    "for i, phase in enumerate(phases_list):\n",
    "    for name, dates in phase.items():\n",
    "        # Middle date in restriction\n",
    "        start = pd.to_datetime(dates['start'], format='%Y-%m-%d')\n",
    "        end = pd.to_datetime(dates['end'], format='%Y-%m-%d')\n",
    "        difference = start - end\n",
    "        days = (int(str(difference).split(\" \")[0].replace('-', '')))\n",
    "        days_timedelta = timedelta(days=(days/2)-2)\n",
    "        plot_date = pd.to_datetime(dates['start'], format='%Y-%m-%d') + days_timedelta\n",
    "        \n",
    "        if i == 0:\n",
    "            ax.axvline(start, color='r', linestyle='--')\n",
    "        ax.axvline(end, color='r', linestyle='--')\n",
    "        #ax.plot(plot_date, 3000, '-o', ms=15, alpha=0.5, color='grey')\n",
    "        ax.annotate(xy=[plot_date, 3000], text=i)\n",
    "\n",
    "plt.show()"
   ]
  },
  {
   "cell_type": "markdown",
   "metadata": {},
   "source": [
    "# 1. Data querying <a class=\"anchor\" id=\"data-querying\"></a>"
   ]
  },
  {
   "cell_type": "markdown",
   "metadata": {},
   "source": [
    "## 1.1 Trips <a class=\"anchor\" id=\"data-querying-trips\"></a>"
   ]
  },
  {
   "cell_type": "code",
   "execution_count": null,
   "metadata": {},
   "outputs": [],
   "source": [
    "# TRIPS RAW DATA query between 2 dates in Catalunya\n",
    "table = 'mitma_cat_raw'\n",
    "df_raw_data = query_raw_data_or_trips_or_flux_matrix_between_dates(\n",
    "     table=table, date1=date1, date2=date2, province_groups=province_group)\n",
    "\n",
    "# Describe dataframe\n",
    "print(f\"df_raw_data size: {df_raw_data.size}\")\n",
    "df_raw_data.head(3)"
   ]
  },
  {
   "cell_type": "code",
   "execution_count": null,
   "metadata": {},
   "outputs": [],
   "source": [
    "# TRIPS MATRIX query between 2 dates in Catalunya\n",
    "table = 'mitma_trips_matrix'\n",
    "df_trips_matrix = query_raw_data_or_trips_or_flux_matrix_between_dates(\n",
    "     table=table, date1=date1, date2=date2, province_groups=province_group)\n",
    "\n",
    "# Describe dataframe\n",
    "print(f\"df_trips_matrix size: {df_trips_matrix.size}\")\n",
    "df_trips_matrix.head(3)"
   ]
  },
  {
   "cell_type": "code",
   "execution_count": null,
   "metadata": {},
   "outputs": [],
   "source": [
    "# Daily trips for all days \n",
    "query = f\"SELECT datetime, source, target, SUM(trips) FROM mitma_cat_raw \\\n",
    "            WHERE source = ANY(%(parameter_array)s) \\\n",
    "            GROUP BY datetime, source, target\"\n",
    "\n",
    "df_trips_all = query_parameters_cat(query, mitma_layers_cat)\n",
    "df_trips_all['date'] = pd.to_datetime(df_trips_all['datetime'], format='%Y-%m-%d')\n",
    "\n",
    "for location_target in location_info.keys():\n",
    "    plot_ts_all_time(df_trips_all, location_target)"
   ]
  },
  {
   "cell_type": "markdown",
   "metadata": {},
   "source": [
    "## 1.2 Internal/incoming/outgoing trips <a class=\"anchor\" id=\"data-querying-iio\"></a>"
   ]
  },
  {
   "cell_type": "code",
   "execution_count": null,
   "metadata": {},
   "outputs": [],
   "source": [
    "# TRIPS IIO (incoming, internal, outgoing)\n",
    "# query between 2 dates in Catalunya\n",
    "table = 'mitma_trips'\n",
    "df_trips_iio = query_trips_iio_or_qrp_between_dates(\n",
    "    table=table, date1=date1, date2=date2, province_groups=province_group)\n",
    "\n",
    "# Describe dataframe\n",
    "print(f\"df_trips_iio size: {df_trips_iio.size}\")\n",
    "df_trips_iio.head(3)"
   ]
  },
  {
   "cell_type": "code",
   "execution_count": null,
   "metadata": {},
   "outputs": [],
   "source": [
    "# TRIPS HOURLY FLUX computation using raw data query\n",
    "_, _, _, df_flux_hourly = compute_fluxes_by_area(\n",
    "    df_raw_data, by_hour=True)\n",
    "\n",
    "# Describe df\n",
    "print(f\"df_flux_hourly size: {df_flux_hourly.size}\")\n",
    "df_flux_hourly.head(3)"
   ]
  },
  {
   "cell_type": "markdown",
   "metadata": {},
   "source": [
    "# 2. Time Series <a class=\"anchor\" id=\"ts\"></a>"
   ]
  },
  {
   "cell_type": "markdown",
   "metadata": {},
   "source": [
    "## 2.1. Trips evolution <a class=\"anchor\" id=\"ts-trips\"></a>"
   ]
  },
  {
   "cell_type": "code",
   "execution_count": null,
   "metadata": {
    "scrolled": true
   },
   "outputs": [],
   "source": [
    "# DAILY and HOURLY raw trips between two dates\n",
    "for target in location_info.keys():\n",
    "    plot_ts_raw_trips(df_trips_all, target)"
   ]
  },
  {
   "cell_type": "markdown",
   "metadata": {},
   "source": [
    "## 2.2. IIO trips evolution <a class=\"anchor\" id=\"ts-iio\"></a>"
   ]
  },
  {
   "cell_type": "code",
   "execution_count": null,
   "metadata": {
    "scrolled": true
   },
   "outputs": [],
   "source": [
    "# Hourly IIO trips. Location as source of trips\n",
    "for location_target in location_info.keys():\n",
    "    plot_ts_fluxes_mobility(df_flux_hourly, location_target, byhour=True, byweek=False)"
   ]
  },
  {
   "cell_type": "code",
   "execution_count": null,
   "metadata": {},
   "outputs": [],
   "source": [
    "# Daily IIO trips. Location as source of trips\n",
    "for location_target in location_info.keys():\n",
    "    plot_ts_fluxes_mobility(df_trips_iio, location_target)"
   ]
  },
  {
   "cell_type": "code",
   "execution_count": null,
   "metadata": {},
   "outputs": [],
   "source": [
    "# Weekly IIO trips. Location as source of trips\n",
    "for location_target in location_info.keys():\n",
    "    plot_ts_fluxes_mobility(df_trips_iio, location_target, byweek=True)"
   ]
  },
  {
   "cell_type": "markdown",
   "metadata": {},
   "source": [
    "# 3. Maps <a class=\"anchor\" id=\"maps\"></a>"
   ]
  },
  {
   "cell_type": "markdown",
   "metadata": {},
   "source": [
    "## 3.1. Trips <a class=\"anchor\" id=\"maps-trips\"></a>"
   ]
  },
  {
   "cell_type": "code",
   "execution_count": null,
   "metadata": {},
   "outputs": [],
   "source": [
    "# Number of trips in a day\n",
    "# Prepare studies\n",
    "date_targets = ['20200303']\n",
    "ori_desti = ['source'] # 'target'\n",
    "metric_targets = ['trips'] #'viajes_km'\n",
    "\n",
    "# Plot maps\n",
    "for location_target in location_info.keys():\n",
    "    for date_target in date_targets:\n",
    "        for metric_target in metric_targets:\n",
    "            for ori_target in ori_desti:\n",
    "                plot_map_daily_trips(\n",
    "                    df=df_raw_data, target=location_target, date=date_target, \n",
    "                    ori_desti=ori_target, metric=metric_target)"
   ]
  },
  {
   "cell_type": "markdown",
   "metadata": {},
   "source": [
    "# 4. Heatmaps <a class=\"anchor\" id=\"heatmaps\"></a>"
   ]
  },
  {
   "cell_type": "markdown",
   "metadata": {},
   "source": [
    "## 4.1. Trips  <a class=\"anchor\" id=\"heatmap-trips\"></a>"
   ]
  },
  {
   "cell_type": "code",
   "execution_count": null,
   "metadata": {},
   "outputs": [],
   "source": [
    "# Trips by weekday and date\n",
    "for location_target in location_info.keys():\n",
    "    plot_htmap_raw_data(df_raw_data, target=location_target, metric='trips')"
   ]
  },
  {
   "cell_type": "markdown",
   "metadata": {},
   "source": [
    "# 5. Scatterplot <a class=\"anchor\" id=\"Scatter\"></a>"
   ]
  },
  {
   "cell_type": "code",
   "execution_count": null,
   "metadata": {},
   "outputs": [],
   "source": [
    "def plot_scatter_trips(df, phase1, phase2):\n",
    "\n",
    "    # Filter mean mobility indexes by date\n",
    "    df_date1 = df[df['phase'] == phase1]\n",
    "    df_date2 = df[df['phase'] == phase2]\n",
    "    df_date1.set_index('datetime', inplace=True)\n",
    "    df_date2.set_index('datetime', inplace=True)\n",
    "\n",
    "    # Sum one day's trips from one node to another\n",
    "    data1 = df_date1.groupby(['source', 'target']).mean()['sum'].reset_index()\n",
    "    data2 = df_date2.groupby(['source', 'target']).mean()['sum'].reset_index()\n",
    "\n",
    "    # Merge both days' data to plot it\n",
    "    df_merged = pd.merge(data1, data2, on=['source', 'target'], how='outer', suffixes=('_x', '_y')).fillna(0)\n",
    "    x, y = np.array(df_merged['sum_x'].apply(round)).reshape(-1, 1), np.array(df_merged['sum_y'].apply(round)).reshape(-1, 1)\n",
    "\n",
    "    difference = x.mean() - y.mean()\n",
    "    print(f\"Trips -> Mean difference: {round(difference, 2)} || \" + \\\n",
    "        f\"SME: {round(mean_squared_error(x, y), 2)} || \" + \\\n",
    "        f\"RSME: {round(mean_squared_error(x, y, squared=False), 2)} ||\" + \\\n",
    "        f\"R2: {round(r2_score(x, y), 2)}\")\n",
    "\n",
    "    # Scatter plot\n",
    "    fig, ax =  plt.subplots(1,1, figsize=(6, 6))\n",
    "    ax.scatter(x, y)\n",
    "    ax.set_xlabel(phase1)\n",
    "    ax.set_ylabel(phase2)\n",
    "    fig.suptitle('Mean daily trips in all MITMA regions in Catalunya', fontsize=14)\n",
    "    \n",
    "    # 2 variables linear regression and R^2\n",
    "    regr = linear_model.LinearRegression()\n",
    "    regr.fit(x, y)\n",
    "    plt.plot(x, regr.predict(x), color='red', linewidth=3)\n",
    "    r2 = round(regr.score(y, x), 2)\n",
    "    m = round(regr.coef_[0][0], 2)\n",
    "    ax.set_title(f'(m: {m}, R2: {r2})')\n",
    "    \n",
    "    # Set axis limits\n",
    "    max_value = max(max(x), max(y))\n",
    "    max_value + max_value*0.05\n",
    "    ax.set_ylim([0, max_value])\n",
    "    ax.set_xlim([0, max_value])\n",
    "\n",
    "    plt.tight_layout()\n",
    "    plt.show()"
   ]
  },
  {
   "cell_type": "code",
   "execution_count": null,
   "metadata": {},
   "outputs": [],
   "source": [
    "# df = df_trips_all.set_index('date').copy()\n",
    "\n",
    "# # Add phases according to dates\n",
    "# for phase in phases_list:\n",
    "#     for phase_name, phase_dates in phase.items():\n",
    "#         start, end = phase_dates['start'], phase_dates['end'] \n",
    "#         df.loc[(df.index >= start) & (df.index <= end), 'phase'] = phase_name"
   ]
  },
  {
   "cell_type": "code",
   "execution_count": null,
   "metadata": {
    "collapsed": true
   },
   "outputs": [],
   "source": [
    "# Add phases to dataframe\n",
    "# add_phases_and_motivs(df_trips_all, phases_list, motiv_list)\n",
    "for phase in phases_list[1:]:\n",
    "    phase_name = list(phase.keys())[0]\n",
    "    plot_scatter_trips(df, phase1='precovid', phase2=phase_name)"
   ]
  },
  {
   "cell_type": "markdown",
   "metadata": {},
   "source": [
    "# 6. Boxplot <a class=\"anchor\" id=\"Boxplot\"></a>"
   ]
  },
  {
   "cell_type": "markdown",
   "metadata": {},
   "source": [
    "## 6.1. Mobility by weekday <a class=\"anchor\" id=\"mobility-weekday-boxplot\"></a>"
   ]
  },
  {
   "cell_type": "code",
   "execution_count": null,
   "metadata": {
    "scrolled": true
   },
   "outputs": [],
   "source": [
    "def plot_boxplot_compare_two_periods_by_weekday(df_raw, phase1, phase2):\n",
    "\n",
    "    df_raw = df_raw.reset_index()\n",
    "    \n",
    "    # First period. Group by weekday and source MITMA region \n",
    "    df = df_raw[df_raw['phase'] == phase1] \n",
    "    df['weekday'] = df['date'].dt.weekday\n",
    "    print(sum(df['sum']))\n",
    "    df = df.groupby(['weekday', 'source']).mean()\n",
    "    df1 = df.reset_index()[['weekday', 'source', 'sum']]\n",
    "    \n",
    "    # Second period. Group by weekday and source MITMA region \n",
    "    df = df_raw[df_raw['phase'] == phase2] \n",
    "    df['weekday'] = df['date'].dt.weekday\n",
    "    print(sum(df['sum']))\n",
    "    df = df.groupby(['weekday', 'source']).mean()\n",
    "    df2 = df.reset_index()[['weekday', 'source', 'sum']]\n",
    "    \n",
    "    # Boxplot legend\n",
    "    df1['phase'] = phase1\n",
    "    df2['phase'] = phase2\n",
    "\n",
    "    # Reorder dataframe\n",
    "    df = df1.append(df2)[['phase', 'weekday', 'sum']]\n",
    "    df.columns = ['phase', 'weekday', 'mean daily trips']\n",
    "    df = df.replace({'weekday' : {\n",
    "        0:'Monday', 1:'Tuesday', 2:'Wednesday', \n",
    "        3:'Thursday', 4:'Friday', 5:'Saturday', 6:'Sunday'}})\n",
    "\n",
    "    # Boxplot\n",
    "    fig, ax = plt.subplots(figsize=(8,6))\n",
    "    sns.violinplot(data=df, x='weekday', y=\"mean daily trips\", hue=\"phase\", ax=ax)\n",
    "    ax.set_title('Mean daily trips in all MITMA regions in Catalunya', fontsize=16)\n",
    "    plt.show()"
   ]
  },
  {
   "cell_type": "code",
   "execution_count": null,
   "metadata": {
    "scrolled": false
   },
   "outputs": [],
   "source": [
    "# Remove warning\n",
    "pd.options.mode.chained_assignment = None  # default='warn'\n",
    "\n",
    "# Boxplot for each phase\n",
    "for phase in phases_list[1:]:\n",
    "    phase_name = list(phase.keys())[0]  \n",
    "    plot_boxplot_compare_two_periods_by_weekday(df, phase1='precovid', phase2=phase_name)"
   ]
  },
  {
   "cell_type": "code",
   "execution_count": null,
   "metadata": {},
   "outputs": [],
   "source": []
  }
 ],
 "metadata": {
  "kernelspec": {
   "display_name": "Python 3.8.13 ('darts_test')",
   "language": "python",
   "name": "python3"
  },
  "language_info": {
   "codemirror_mode": {
    "name": "ipython",
    "version": 3
   },
   "file_extension": ".py",
   "mimetype": "text/x-python",
   "name": "python",
   "nbconvert_exporter": "python",
   "pygments_lexer": "ipython3",
   "version": "3.8.13"
  },
  "vscode": {
   "interpreter": {
    "hash": "dbc62749ea1a13135729c979bc0dd1ad6f40f79b4646c59748d37846854255f8"
   }
  }
 },
 "nbformat": 4,
 "nbformat_minor": 2
}
