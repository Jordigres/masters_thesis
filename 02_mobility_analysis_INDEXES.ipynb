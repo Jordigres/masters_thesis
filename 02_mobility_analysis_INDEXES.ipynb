{
 "cells": [
  {
   "cell_type": "markdown",
   "metadata": {},
   "source": [
    "# Catalunya's MOBILITY INDEXES analysis in the COVID-19 restrictions\n",
    "\n",
    "### Code contributors:\n",
    "- Julià Vicens <julian.vicens@eurecat.org>\n",
    "- Jordi Grau <jordi.grau@eurecat.org>\n",
    "\n",
    "### Content\n",
    "This notebook analyses the differences in Catalunya's mobility across the previously defined COVID-19 phases using visual analysis. In this notebook the focus are the MITMA MOBILITY INDEXES. \n",
    "\n",
    "### Contents\n",
    "\n",
    "1. [Mobility indexes](#mi)  \n",
    "    1.1. [Temporal Series](#mi-ts)   \n",
    "    1.2. [Maps](#mi-maps)      \n",
    "    1.3. [Heatmaps](#mi-heatmaps)    \n",
    "\n",
    "\n",
    "2. [Δ Mobility indexes](#Δmi)  \n",
    "    1.1. [Temporal Series](#Δmi-ts)   \n",
    "    1.2. [Maps](#Δmi-maps)      \n",
    "    1.3. [Heatmaps](#Δmi-heatmaps) "
   ]
  },
  {
   "cell_type": "code",
   "execution_count": null,
   "metadata": {
    "vscode": {
     "languageId": "python"
    }
   },
   "outputs": [],
   "source": [
    "from src.mobility_context_and_queries import *\n",
    "from src.mobility_plots import *"
   ]
  },
  {
   "cell_type": "code",
   "execution_count": null,
   "metadata": {
    "vscode": {
     "languageId": "python"
    }
   },
   "outputs": [],
   "source": [
    "# Get all phases\n",
    "print(\"All possible phases:\\n\")\n",
    "all_phases = []\n",
    "for phase in phases_list:\n",
    "    phase_name, phase_period = list(phase.items())[0]\n",
    "    print(f'- ({phase_name}, {phase_period[\"start\"]}, {phase_period[\"end\"]})')\n",
    "    all_phases.append(phase_name)\n",
    "    \n",
    "#############################\n",
    "############ FILL ###########\n",
    "#############################\n",
    "\n",
    "# Fill target phases wanted for the study\n",
    "study_phases = [\n",
    "    'precovid', 'lockdown', 'mobilitat_essenc', 'fase_0', 'desescalada', \n",
    "    'no_restriccions', 'alerta_5_inici', 'alerta_5_tr1', 'alerta_5_tr1_2', 'nadal_cap_reis']\n",
    "\n",
    "# Print target phases names and dates\n",
    "phases_dates_targets = []\n",
    "for phase_dict in phases_list:\n",
    "    for phase_name, dates in phase_dict.items():\n",
    "        if phase_name in study_phases:\n",
    "            phases_dates_targets.append((phase_name, dates['start'], dates['end']))\n",
    "print('\\nStudy about this phases:\\n')\n",
    "for study in phases_dates_targets:\n",
    "    print(f'- {study}')"
   ]
  },
  {
   "cell_type": "code",
   "execution_count": null,
   "metadata": {
    "vscode": {
     "languageId": "python"
    }
   },
   "outputs": [],
   "source": [
    "# Get all motivs\n",
    "print(\"All possible motivs:\\n\")\n",
    "all_motivs = []\n",
    "for motiv in motiv_list:\n",
    "    motiv_name, motiv_period = list(motiv.items())[0]\n",
    "    print(f'- ({motiv_name}, {motiv_period[\"start\"]}, {motiv_period[\"end\"]})')\n",
    "    all_motivs.append(motiv_name)\n",
    "\n",
    "#############################\n",
    "############ FILL ###########\n",
    "#############################\n",
    "\n",
    "# Fill target motivs wanted for the study\n",
    "study_motivs = []\n",
    "\n",
    "# Print target motivs names and dates\n",
    "motivs_dates_targets = []\n",
    "for motiv_dict in motiv_list:\n",
    "    for motiv_name, dates in motiv_dict.items():\n",
    "        if motiv_name in study_motivs:\n",
    "            motivs_dates_targets.append((motiv_name, dates['start'], dates['end']))\n",
    "print('\\nStudy about this motivs:\\n')\n",
    "for study in motivs_dates_targets:\n",
    "    print(f'- {study}')"
   ]
  },
  {
   "cell_type": "code",
   "execution_count": null,
   "metadata": {
    "vscode": {
     "languageId": "python"
    }
   },
   "outputs": [],
   "source": [
    "# Metrics\n",
    "metrics_list = ['m','r','p']"
   ]
  },
  {
   "cell_type": "markdown",
   "metadata": {},
   "source": [
    "## 1. Data querying <a class=\"anchor\" id=\"mi\"></a>"
   ]
  },
  {
   "cell_type": "code",
   "execution_count": null,
   "metadata": {
    "vscode": {
     "languageId": "python"
    }
   },
   "outputs": [],
   "source": [
    "# QRP INDEXES query all time in Catalunya\n",
    "table = 'mitma_qrp'\n",
    "df_qrp = query_trips_iio_or_qrp_between_dates(table=table, province_groups=province_group)\n",
    "df_qrp = add_phases_and_motivs(df_qrp, phases_list, motiv_list)\n",
    "\n",
    "# Describe dataframe\n",
    "print(f\"df_qrp size: {df_qrp.size}\")\n",
    "df_qrp.head(2)"
   ]
  },
  {
   "cell_type": "code",
   "execution_count": null,
   "metadata": {
    "vscode": {
     "languageId": "python"
    }
   },
   "outputs": [],
   "source": [
    "# P INDEX MATRIX query between 2 dates in Catalunya\n",
    "table = 'mitma_flux'\n",
    "df_flux_daily = query_raw_data_or_trips_or_flux_matrix_between_dates(\n",
    "     table=table, date1=None, date2=None, province_groups=province_group)\n",
    "\n",
    "# Describe dataframe\n",
    "print(f\"df_flux_daily size: {df_flux_daily.size}\")\n",
    "df_flux_daily.head(3)"
   ]
  },
  {
   "cell_type": "markdown",
   "metadata": {},
   "source": [
    "## 2. Mobility indexes <a class=\"anchor\" id=\"mi\"></a>"
   ]
  },
  {
   "cell_type": "markdown",
   "metadata": {},
   "source": [
    "### 2.1. Temporal Series <a class=\"anchor\" id=\"mi-ts\"></a>"
   ]
  },
  {
   "cell_type": "code",
   "execution_count": null,
   "metadata": {
    "scrolled": true,
    "vscode": {
     "languageId": "python"
    }
   },
   "outputs": [],
   "source": [
    "# Daily mobility indexes\n",
    "for location_target in location_info.keys():\n",
    "    plot_ts_mqrp_daily_mobility(\n",
    "        df_qrp, location_target, byweek=False, \n",
    "        save_url=f'img/catalunya_analysis/{location_target}/ts_mqrp_daily_{location_target}.png')"
   ]
  },
  {
   "cell_type": "code",
   "execution_count": null,
   "metadata": {
    "vscode": {
     "languageId": "python"
    }
   },
   "outputs": [],
   "source": [
    "# Weekly mobility indexes\n",
    "for location_target in location_info.keys():\n",
    "    plot_ts_mqrp_daily_mobility(\n",
    "        df_qrp, location_target, byweek=True, \n",
    "        save_url=f'img/catalunya_analysis/{location_target}/ts_mqrp_weekly_{location_target}.png')"
   ]
  },
  {
   "cell_type": "markdown",
   "metadata": {},
   "source": [
    "### 2.2 Maps <a class=\"anchor\" id=\"mi-maps\"></a>"
   ]
  },
  {
   "cell_type": "code",
   "execution_count": null,
   "metadata": {
    "vscode": {
     "languageId": "python"
    }
   },
   "outputs": [],
   "source": [
    "# Mean daily mobility indexes or 1 day mobility indexes\n",
    "for location_target in location_info.keys():\n",
    "    for phase_name, date1, date2 in phases_dates_targets:\n",
    "            for metric_target in metrics_list:\n",
    "                plot_map_daily_or_mean_daily_mobility_index(\n",
    "                    df=df_qrp, target=location_target, metric=metric_target, \n",
    "                    phase=phase_name, date1=date1, date2=date2, \n",
    "                    save_url=f'img/catalunya_analysis/{location_target}/map_{metric_target}_{phase_name}_phase_{location_target}.png')"
   ]
  },
  {
   "cell_type": "markdown",
   "metadata": {},
   "source": [
    "### 2.3 Heatmaps <a class=\"anchor\" id=\"mi-heatmaps\"></a>"
   ]
  },
  {
   "cell_type": "code",
   "execution_count": null,
   "metadata": {
    "vscode": {
     "languageId": "python"
    }
   },
   "outputs": [],
   "source": [
    "# Daily mean mobility index. Y axis = MITMA source region \n",
    "for location_target in location_info.keys():\n",
    "   \n",
    "    for metric in metrics_list:    \n",
    "        # Set size of heatmap\n",
    "        if location_target == 'cat':\n",
    "            figsize=(12,7)\n",
    "        if location_target == 'bcn':\n",
    "            figsize=(13,7)\n",
    "        if location_target == 'girona':\n",
    "            figsize=(35,5)\n",
    "        if location_target == 'tarraco':\n",
    "            figsize=(20,4)\n",
    "        if location_target == 'lleida':\n",
    "            figsize=(25,4)\n",
    "        \n",
    "        plot_htmap_mobility_indexes(\n",
    "            df=df_qrp, target=location_target, metric=metric, y_axis='source', source_by_week=False, figsize=figsize,\n",
    "            save_url=f'img/catalunya_analysis/{location_target}/heatmap_daily_{metric}_by_source_{location_target}.png')"
   ]
  },
  {
   "cell_type": "code",
   "execution_count": null,
   "metadata": {
    "vscode": {
     "languageId": "python"
    }
   },
   "outputs": [],
   "source": [
    "# Weekly mean mobility index. Y axis = MITMA source region  \n",
    "for location_target in location_info.keys():\n",
    "\n",
    "    for metric in metrics_list:    \n",
    "        # Set size of heatmap\n",
    "        if location_target == 'cat':\n",
    "            figsize=(5,20)\n",
    "        if location_target == 'bcn':\n",
    "            figsize=(10,20)\n",
    "        if location_target == 'girona':\n",
    "            figsize=(16,12)\n",
    "        if location_target == 'tarraco':\n",
    "            figsize=(10,10)\n",
    "        if location_target == 'lleida':\n",
    "            figsize=(16,12)\n",
    "        \n",
    "        plot_htmap_mobility_indexes(\n",
    "            df=df_qrp, target=location_target, metric=metric, y_axis='source', source_by_week=True, figsize=figsize,\n",
    "            save_url=f'img/catalunya_analysis/{location_target}/heatmap_weekly_{metric}_by_source_{location_target}.png')"
   ]
  },
  {
   "cell_type": "code",
   "execution_count": null,
   "metadata": {
    "vscode": {
     "languageId": "python"
    }
   },
   "outputs": [],
   "source": [
    "# Weekly mean mobility index. Y axis = day of week\n",
    "figsize = (16, 4)\n",
    "\n",
    "for location_target in location_info.keys():     \n",
    "    for metric in metrics_list:\n",
    "        plot_htmap_mobility_indexes(\n",
    "            df=df_qrp, target=location_target, metric=metric, y_axis='weekday', source_by_week=True, figsize=figsize,\n",
    "            save_url=f'img/catalunya_analysis/{location_target}/heatmap_weekly_{metric}_by_weekday_{location_target}.png')"
   ]
  },
  {
   "cell_type": "markdown",
   "metadata": {},
   "source": [
    "## 2. Δ Mobility indexes <a class=\"anchor\" id=\"Δmi\"></a> "
   ]
  },
  {
   "cell_type": "markdown",
   "metadata": {},
   "source": [
    "### 2.1 Temporal Series <a class=\"anchor\" id=\"Δmi-ts\"></a> "
   ]
  },
  {
   "cell_type": "code",
   "execution_count": null,
   "metadata": {
    "vscode": {
     "languageId": "python"
    }
   },
   "outputs": [],
   "source": [
    "# Daily delta mobility using phases\n",
    "compare = 'phase'\n",
    "\n",
    "for location_target in location_info.keys():\n",
    "    for metric in metrics_list:\n",
    "        phase_number = 1\n",
    "        for phase in all_phases:\n",
    "            plot_ts_delta_mobility_compared_to_baseline(\n",
    "                df=df_qrp, metric=metric, loc_target=location_target, compare=compare, baseline=phase, byweek=False,\n",
    "                save_url=f'img/catalunya_analysis/{location_target}/ts_Δ{metric}_daily_{phase_number}{phase}_{compare}_as_baseline.png')\n",
    "            phase_number += 1"
   ]
  },
  {
   "cell_type": "code",
   "execution_count": null,
   "metadata": {
    "vscode": {
     "languageId": "python"
    }
   },
   "outputs": [],
   "source": [
    "# Weekly delta mobility using phases\n",
    "compare = 'phase'\n",
    "\n",
    "for location_target in location_info.keys():\n",
    "    for metric in metrics_list:\n",
    "        phase_number = 1\n",
    "        for phase in all_phases:\n",
    "            plot_ts_delta_mobility_compared_to_baseline(\n",
    "                df=df_qrp, metric=metric, loc_target=location_target, compare=compare, baseline=phase, byweek=True,\n",
    "                save_url=f'img/catalunya_analysis/{location_target}/ts_Δ{metric}_weekly_{phase_number}{phase}_{compare}_as_baseline.png')\n",
    "            phase_number += 1"
   ]
  },
  {
   "cell_type": "markdown",
   "metadata": {},
   "source": [
    "### 2.2. Maps <a class=\"anchor\" id=\"Δmi-maps\"></a> "
   ]
  },
  {
   "cell_type": "code",
   "execution_count": null,
   "metadata": {
    "vscode": {
     "languageId": "python"
    }
   },
   "outputs": [],
   "source": [
    "# MAP Delta mobility in 2 phases\n",
    "compare = 'phase'\n",
    "baseline_list = [study_phases[0]] # precovid\n",
    "target_list = study_phases[1:]\n",
    "\n",
    "# Plot maps\n",
    "for location_target in location_info.keys():        \n",
    "    for metric in metrics_list:                \n",
    "        for target in target_list:\n",
    "            for baseline in baseline_list:\n",
    "                plot_map_delta_mobility_comparing_2_phases_or_motivs_or_days(\n",
    "                    df_qrp, location_target=location_target, metric=metric, \n",
    "                    compare=compare, baseline=baseline, target=target,\n",
    "                    save_url=f'img/catalunya_analysis/{location_target}/map_Δ{metric}_{compare}_{baseline}_vs_{target}_{location_target}.png')"
   ]
  },
  {
   "cell_type": "code",
   "execution_count": null,
   "metadata": {
    "vscode": {
     "languageId": "python"
    }
   },
   "outputs": [],
   "source": [
    "# MAP Delta mobility in 2 motivs\n",
    "compare = 'motiv'\n",
    "baseline_list = [study_motivs[0]] # baseline\n",
    "target_list = study_motivs[1:]\n",
    "\n",
    "# Plot maps\n",
    "for location_target in location_info.keys():\n",
    "    for metric in metrics_list:\n",
    "        for target in target_list:\n",
    "            for baseline in baseline_list:\n",
    "                plot_map_delta_mobility_comparing_2_phases_or_motivs_or_days(\n",
    "                    df_qrp, location_target=location_target, metric=metric, \n",
    "                    compare=compare, baseline=baseline, target=target,\n",
    "                    save_url=f'img/catalunya_analysis/{location_target}/map_Δ{metric}_{compare}_{baseline}_vs_{target}_{location_target}.png')"
   ]
  },
  {
   "cell_type": "markdown",
   "metadata": {},
   "source": [
    "### 2.3. Heatmaps <a class=\"anchor\" id=\"Δmi-heatmaps\"></a> "
   ]
  },
  {
   "cell_type": "code",
   "execution_count": null,
   "metadata": {
    "vscode": {
     "languageId": "python"
    }
   },
   "outputs": [],
   "source": [
    "# Daily delta mobility index comparing 2 phases. Y axis = MITMA source region\n",
    "compare = 'phase'\n",
    "baseline_list = [study_phases[0]] # precovid\n",
    "target_list = study_phases[1:]\n",
    "\n",
    "for loc_target in location_info.keys():\n",
    "       \n",
    "    # Set size of heatmap\n",
    "    if loc_target == 'cat':\n",
    "        figsize=(10,60)\n",
    "    if loc_target == 'bcn':\n",
    "        figsize=(8,40)\n",
    "    if loc_target == 'girona':\n",
    "        figsize=(8,40)\n",
    "    if loc_target == 'tarraco':\n",
    "        figsize=(8,40)\n",
    "    if loc_target == 'lleida':\n",
    "        figsize=(8,40)\n",
    "        \n",
    "    for metric in metrics_list:\n",
    "        for baseline in baseline_list:\n",
    "            for target in target_list:\n",
    "                plot_htmap_delta_mobility_indexes(\n",
    "                    df=df_qrp, location_target=loc_target, metric=metric, \n",
    "                    compare=compare, baseline=baseline, target=target, y_axis='source', source_by_week=False, figsize=figsize,\n",
    "                    save_url=f'img/catalunya_analysis/{location_target}/heatmap_Δ{metric}_daily_by_source_{compare}_{baseline}_vs_{target}_{location_target}.png')"
   ]
  },
  {
   "cell_type": "code",
   "execution_count": null,
   "metadata": {
    "vscode": {
     "languageId": "python"
    }
   },
   "outputs": [],
   "source": [
    "# Weekly delta mobility index comparing 2 phases. Y axis = MITMA source region\n",
    "compare = 'phase'\n",
    "baseline_list = [study_phases[0]] # precovid\n",
    "target_list = study_phases[1:]\n",
    "\n",
    "for loc_target in location_info.keys():\n",
    "       \n",
    "    # Set size of heatmap\n",
    "    if loc_target == 'cat':\n",
    "        figsize=(10,60)\n",
    "    if loc_target == 'bcn':\n",
    "        figsize=(8,40)\n",
    "    if loc_target == 'girona':\n",
    "        figsize=(8,40)\n",
    "    if loc_target == 'tarraco':\n",
    "        figsize=(8,40)\n",
    "    if loc_target == 'lleida':\n",
    "        figsize=(8,40)\n",
    "        \n",
    "    for metric in metrics_list:\n",
    "        for baseline in baseline_list:\n",
    "            for target in target_list:\n",
    "                plot_htmap_delta_mobility_indexes(\n",
    "                    df=df_qrp, location_target=loc_target, metric=metric, \n",
    "                    compare=compare, baseline=baseline, target=target, y_axis='source', source_by_week=True, figsize=figsize,\n",
    "                    save_url=f'img/catalunya_analysis/{location_target}/heatmap_Δ{metric}_weekly_by_source_{compare}_{baseline}_vs_{target}_{location_target}.png')"
   ]
  },
  {
   "cell_type": "code",
   "execution_count": null,
   "metadata": {
    "vscode": {
     "languageId": "python"
    }
   },
   "outputs": [],
   "source": [
    "# Weekly delta mobility index comparing 2 motivs. Y axis = MITMA source region\n",
    "compare = 'motiv'\n",
    "baseline_list = [study_motivs[0]] # baseline\n",
    "target_list = study_motivs[1:]\n",
    "\n",
    "for loc_target in location_info.keys():\n",
    "       \n",
    "    # Set size of heatmap\n",
    "    if loc_target == 'cat':\n",
    "        figsize=(10,60)\n",
    "    if loc_target == 'bcn':\n",
    "        figsize=(8,40)\n",
    "    if loc_target == 'girona':\n",
    "        figsize=(4,20)\n",
    "    if loc_target == 'tarraco':\n",
    "        figsize=(4,20)\n",
    "    if loc_target == 'lleida':\n",
    "        figsize=(4,20)\n",
    "        \n",
    "    for metric in metrics_list:\n",
    "        for baseline in baseline_list:\n",
    "            for target in target_list:\n",
    "                plot_htmap_delta_mobility_indexes(\n",
    "                    df=df_qrp, location_target=loc_target, metric=metric, \n",
    "                    compare=compare, baseline=baseline, target=target, y_axis='source', source_by_week=True, figsize=figsize,\n",
    "                    save_url=f'img/catalunya_analysis/{location_target}/heatmap_Δ{metric}_daily_by_source_{compare}_{baseline}_vs_{target}_{location_target}.png')"
   ]
  },
  {
   "cell_type": "code",
   "execution_count": null,
   "metadata": {
    "vscode": {
     "languageId": "python"
    }
   },
   "outputs": [],
   "source": [
    "# Weekly delta mobility index comparing 2 phases. Y axis = weekday\n",
    "compare = 'phase'\n",
    "baseline_list = [study_phases[0]] # baseline\n",
    "target_list = ['all_time']\n",
    "\n",
    "for loc_target in list(location_info.keys()):     \n",
    "    for metric in metrics_list:\n",
    "        for baseline in baseline_list:\n",
    "            for target in target_list:\n",
    "                plot_htmap_delta_mobility_indexes(\n",
    "                    df=df_qrp, location_target=loc_target, metric=metric, \n",
    "                    compare=compare, baseline=baseline, target=target, y_axis='weekday', source_by_week=True, figsize=(16, 4),\n",
    "                    save_url=f'img/catalunya_analysis/{loc_target}/heatmap_Δ{metric}_weekly_by_weekday_{compare}_{baseline}_vs_{target}_{loc_target}.png')"
   ]
  },
  {
   "cell_type": "code",
   "execution_count": null,
   "metadata": {
    "vscode": {
     "languageId": "python"
    }
   },
   "outputs": [],
   "source": [
    "# Weekly delta mobility index comparing 2 motivs. Y axis = weekday\n",
    "compare = 'motiv'\n",
    "baseline_list = [study_motivs[0]] # baseline\n",
    "target_list = study_motivs[1:]\n",
    "\n",
    "for loc_target in location_info.keys():     \n",
    "    for metric in metrics_list:\n",
    "        for baseline in baseline_list:\n",
    "            for target in target_list:\n",
    "                plot_htmap_delta_mobility_indexes(\n",
    "                    df=df_qrp, location_target=loc_target, metric=metric, \n",
    "                    compare=compare, baseline=baseline, target=target, y_axis='weekday', source_by_week=True, figsize=(16, 4),\n",
    "                    save_url=f'img/catalunya_analysis/{location_target}/heatmap_Δ{metric}_weekly_by_weekday_{compare}_{baseline}_vs_{target}_{location_target}.png')"
   ]
  },
  {
   "cell_type": "code",
   "execution_count": null,
   "metadata": {
    "vscode": {
     "languageId": "python"
    }
   },
   "outputs": [],
   "source": []
  }
 ],
 "metadata": {
  "kernelspec": {
   "display_name": "Python3 (Eurecat)",
   "language": "python",
   "name": "eurecat-python3"
  },
  "vscode": {
   "interpreter": {
    "hash": "dbc62749ea1a13135729c979bc0dd1ad6f40f79b4646c59748d37846854255f8"
   }
  }
 },
 "nbformat": 4,
 "nbformat_minor": 2
}
